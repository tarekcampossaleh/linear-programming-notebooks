{
 "cells": [
  {
   "cell_type": "code",
   "execution_count": 4,
   "id": "532dbd5e",
   "metadata": {},
   "outputs": [],
   "source": [
    "import numpy as np\n",
    "from scipy.optimize import linprog"
   ]
  },
  {
   "cell_type": "code",
   "execution_count": 5,
   "id": "bc03c971",
   "metadata": {},
   "outputs": [],
   "source": [
    "c = np.array([1,1,1,1,1,1,1])"
   ]
  },
  {
   "cell_type": "code",
   "execution_count": 6,
   "id": "a970ae71",
   "metadata": {},
   "outputs": [],
   "source": [
    "A_ub = np.array([[-1,0,0,-1,-1,-1,-1],\n",
    "                [-1,-1,0,0,-1,-1,-1],\n",
    "                [-1,-1,-1,0,0,-1,-1],\n",
    "                [-1,-1,-1,-1,0,0,-1],\n",
    "                [-1,-1,-1,-1,-1,0,0],\n",
    "                [0,-1,-1,-1,-1,-1,0],\n",
    "                [0,0,-1,-1,-1,-1,-1],\n",
    "               ])"
   ]
  },
  {
   "cell_type": "code",
   "execution_count": 7,
   "id": "1e21f927",
   "metadata": {},
   "outputs": [],
   "source": [
    "b_ub = np.array([-23,-12,-23,-13,-23,-12,-6])"
   ]
  },
  {
   "cell_type": "code",
   "execution_count": 8,
   "id": "df878b12",
   "metadata": {},
   "outputs": [],
   "source": [
    "x1_bounds = (0, None)\n",
    "x2_bounds = (0, None)\n",
    "x3_bounds = (0, None)\n",
    "x4_bounds = (0, None)\n",
    "x5_bounds = (0, None)\n",
    "x6_bounds = (0, None)\n",
    "x7_bounds = (0, None)"
   ]
  },
  {
   "cell_type": "code",
   "execution_count": 9,
   "id": "959f8f57",
   "metadata": {},
   "outputs": [],
   "source": [
    " res = linprog(c, A_ub=A_ub, b_ub=b_ub, bounds=(x1_bounds,x2_bounds,x3_bounds,x4_bounds,\n",
    "                                                             x5_bounds,x6_bounds,x7_bounds))"
   ]
  },
  {
   "cell_type": "code",
   "execution_count": 10,
   "id": "da7f8073",
   "metadata": {},
   "outputs": [
    {
     "name": "stdout",
     "output_type": "stream",
     "text": [
      "optimal solution: 27.0 \n",
      "variables: [1.50000000e+01 2.00009567e+00 1.99990433e+00 2.02085773e+00\n",
      " 1.97914227e+00 4.00000000e+00 1.90739671e-13] \n",
      "iterations: 6\n"
     ]
    }
   ],
   "source": [
    "print('optimal solution:', round(res.fun, ndigits=2),\n",
    "      '\\nvariables:', res.x,\n",
    "      '\\niterations:', res.nit)"
   ]
  },
  {
   "cell_type": "code",
   "execution_count": null,
   "id": "49eace8c",
   "metadata": {},
   "outputs": [],
   "source": []
  }
 ],
 "metadata": {
  "kernelspec": {
   "display_name": "Python 3 (ipykernel)",
   "language": "python",
   "name": "python3"
  },
  "language_info": {
   "codemirror_mode": {
    "name": "ipython",
    "version": 3
   },
   "file_extension": ".py",
   "mimetype": "text/x-python",
   "name": "python",
   "nbconvert_exporter": "python",
   "pygments_lexer": "ipython3",
   "version": "3.9.5"
  }
 },
 "nbformat": 4,
 "nbformat_minor": 5
}
