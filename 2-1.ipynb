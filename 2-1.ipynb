{
 "cells": [
  {
   "cell_type": "code",
   "execution_count": 32,
   "id": "e8b12d1e",
   "metadata": {},
   "outputs": [],
   "source": [
    "import numpy as np\n",
    "from scipy.optimize import linprog"
   ]
  },
  {
   "cell_type": "code",
   "execution_count": 33,
   "id": "8980b406",
   "metadata": {},
   "outputs": [],
   "source": [
    "c = np.array([-30,-40,-20,-10,15,20,10,8])"
   ]
  },
  {
   "cell_type": "code",
   "execution_count": 34,
   "id": "d5049bfb",
   "metadata": {},
   "outputs": [
    {
     "data": {
      "text/plain": [
       "array([-30, -40, -20, -10,  15,  20,  10,   8])"
      ]
     },
     "execution_count": 34,
     "metadata": {},
     "output_type": "execute_result"
    }
   ],
   "source": [
    "c"
   ]
  },
  {
   "cell_type": "code",
   "execution_count": 35,
   "id": "b5ccd1d4",
   "metadata": {},
   "outputs": [],
   "source": [
    "A_ub = np.array([[0.30,0.30,0.25,0.15,0,0,0,0], \n",
    "                 [0.25,0.35,0.30,0.10,0,0,0,0], \n",
    "                 [0.45,0.50,0.40,0.22,0,0,0,0],\n",
    "                 [0.15,0.15,0.10,0.05,0,0,0,0],\n",
    "             ])"
   ]
  },
  {
   "cell_type": "code",
   "execution_count": 36,
   "id": "57f5296a",
   "metadata": {},
   "outputs": [],
   "source": [
    "A_eq = np.array([[1,0,0,0,1,0,0,0],\n",
    "                 [0,1,0,0,0,1,0,0],\n",
    "                 [0,0,1,0,0,0,1,0],\n",
    "                 [0,0,0,1,0,0,0,1],\n",
    "                ])"
   ]
  },
  {
   "cell_type": "code",
   "execution_count": 37,
   "id": "5c134c04",
   "metadata": {},
   "outputs": [],
   "source": [
    "b_ub = np.array([1000,1000,1000,1000])"
   ]
  },
  {
   "cell_type": "code",
   "execution_count": 38,
   "id": "c0aabd7f",
   "metadata": {},
   "outputs": [],
   "source": [
    "b_eq = np.array([800,750,600,500])"
   ]
  },
  {
   "cell_type": "code",
   "execution_count": 39,
   "id": "fceed108",
   "metadata": {},
   "outputs": [],
   "source": [
    "x1_bounds = (0, None)\n",
    "x2_bounds = (0, None)\n",
    "x3_bounds = (0, None)\n",
    "x4_bounds = (0, None)\n",
    "s1_bounds = (0, None)\n",
    "s2_bounds = (0, None)\n",
    "s3_bounds = (0, None)\n",
    "s4_bounds = (0, None)"
   ]
  },
  {
   "cell_type": "code",
   "execution_count": 40,
   "id": "ebbde766",
   "metadata": {},
   "outputs": [],
   "source": [
    " res = linprog(c, A_ub=A_ub, A_eq=A_eq, b_ub=b_ub, b_eq=b_eq, bounds=(x1_bounds,x2_bounds,x3_bounds,x4_bounds,\n",
    "                                                             s1_bounds,s2_bounds,s3_bounds,s4_bounds))"
   ]
  },
  {
   "cell_type": "code",
   "execution_count": 45,
   "id": "c0a06552",
   "metadata": {},
   "outputs": [
    {
     "name": "stdout",
     "output_type": "stream",
     "text": [
      "optimal solution: 64625.0 \n",
      "variables: [8.00000000e+02 7.50000000e+02 3.87500000e+02 5.00000000e+02\n",
      " 9.62015949e-10 5.22923864e-10 2.12500000e+02 3.69876717e-11] \n",
      "iterations: 7\n"
     ]
    }
   ],
   "source": [
    "print('optimal solution:', round(res.fun*-1, ndigits=2),\n",
    "      '\\nvariables:', res.x,\n",
    "      '\\niterations:', res.nit)"
   ]
  }
 ],
 "metadata": {
  "kernelspec": {
   "display_name": "Python 3 (ipykernel)",
   "language": "python",
   "name": "python3"
  },
  "language_info": {
   "codemirror_mode": {
    "name": "ipython",
    "version": 3
   },
   "file_extension": ".py",
   "mimetype": "text/x-python",
   "name": "python",
   "nbconvert_exporter": "python",
   "pygments_lexer": "ipython3",
   "version": "3.9.5"
  }
 },
 "nbformat": 4,
 "nbformat_minor": 5
}
